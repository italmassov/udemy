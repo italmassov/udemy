{
 "cells": [
  {
   "cell_type": "markdown",
   "metadata": {},
   "source": [
    "# Section 2. Lecture 6\n",
    "\n",
    "### Monty Hall problem"
   ]
  },
  {
   "cell_type": "markdown",
   "metadata": {},
   "source": [
    "**How the game works**"
   ]
  },
  {
   "cell_type": "markdown",
   "metadata": {},
   "source": [
    "1. You pick a door (you don't get to see what is behind it) (suppose door # 1)\n",
    "2. Monty Hall opens one of doors you didn't pick, reveals a goat (door # 2)\n",
    "3. You are given a choice: stay with door #1, or switch to door #3\n",
    "\n",
    "What do you choose:\n",
    "Stay with door number 1 or switch to door #3?"
   ]
  },
  {
   "cell_type": "markdown",
   "metadata": {},
   "source": [
    "**The obvious answer**"
   ]
  },
  {
   "cell_type": "markdown",
   "metadata": {},
   "source": [
    "The question might seem silly - it doesn't matter which door you choose, the probability of each i 1/3 right?"
   ]
  },
  {
   "cell_type": "markdown",
   "metadata": {},
   "source": [
    "Thinking about this in context of Bayes rule."
   ]
  },
  {
   "cell_type": "markdown",
   "metadata": {},
   "source": [
    "p(door1 = car) = 1/3"
   ]
  },
  {
   "cell_type": "markdown",
   "metadata": {},
   "source": [
    "p(door1 = car | door2 = goat) = p(door2 = goat | door1 = car) * p(door1 = car) / p(door2 = goat)"
   ]
  },
  {
   "cell_type": "code",
   "execution_count": 6,
   "metadata": {
    "collapsed": false
   },
   "outputs": [
    {
     "data": {
      "text/plain": [
       "0.3333333333333333"
      ]
     },
     "execution_count": 6,
     "metadata": {},
     "output_type": "execute_result"
    }
   ],
   "source": [
    "p_d2goatGiven1Car = 1\n",
    "p_door1Car = 1/3.0\n",
    "p_door2Goat = 1\n",
    "\n",
    "p_door1CarGivenDoor2Goat = (p_d2goatGiven1Car * p_door1Car) / p_door2Goat\n",
    "p_door1CarGivenDoor2Goat"
   ]
  },
  {
   "cell_type": "markdown",
   "metadata": {},
   "source": [
    "p(door3 = car | door2 = goat) = p(door2 = goat | door3 = car) * p(door3 = car) / p(door2 = goat)"
   ]
  },
  {
   "cell_type": "markdown",
   "metadata": {},
   "source": [
    "p(door3 = car | door2 = goat) = p(door2=goat, door3=car)/p(door2=goat)"
   ]
  },
  {
   "cell_type": "code",
   "execution_count": 8,
   "metadata": {
    "collapsed": false
   },
   "outputs": [
    {
     "data": {
      "text/plain": [
       "0.3333333333333333"
      ]
     },
     "execution_count": 8,
     "metadata": {},
     "output_type": "execute_result"
    }
   ],
   "source": [
    "p_d2goatGiven3Car = 1\n",
    "p_door3Car = 1/3.0\n",
    "p_door2Goat = 1\n",
    "\n",
    "p_door3CarGivenDoor2Goat = (p_d2goatGivend1Car * p_door1Car) / p_door2Goat\n",
    "p_door3CarGivenDoor2Goat"
   ]
  },
  {
   "cell_type": "markdown",
   "metadata": {},
   "source": [
    "\n",
    "### Solution"
   ]
  },
  {
   "cell_type": "raw",
   "metadata": {},
   "source": [
    "Assume we choose door #1 (each probability is conditioned on this, so we don't show it at all)\n",
    "FC = 1\n",
    "C = where the car really is\n",
    "p(C=1) = p(C=2) = p(C=3) = 1/3\n",
    "H = door that Monty Hall opens\n",
    "\n",
    "Assume he opens door #2, without loss of generality, problem is symetric\n",
    "p(H=2 | C=1, FC =1) = 0.5\n",
    "p(H=2 | C=2, FC = 1) = 0\n",
    "p(H=2 | C=3, FC = 1) = 1\n",
    "Meaning that when we open door 1, then given where the actual car is:\n",
    "If it is behind C=1, which we chose Monty would open door #2 with probability 1/2\n",
    "If it is behind C = 2, then he wouldn't open it, so it is not behind door #2\n",
    "And if it is under door #2 and we chose #1, then he would open it with probability 1\n"
   ]
  },
  {
   "cell_type": "raw",
   "metadata": {},
   "source": [
    "p(C=1|H=2) = p(H=2|C=1)*p(C=1) / p(H=2)"
   ]
  },
  {
   "cell_type": "code",
   "execution_count": 10,
   "metadata": {
    "collapsed": false
   },
   "outputs": [
    {
     "data": {
      "text/plain": [
       "0.3333333333333333"
      ]
     },
     "execution_count": 10,
     "metadata": {},
     "output_type": "execute_result"
    }
   ],
   "source": [
    "p_H2GivenC1 = 0.5\n",
    "p_C1 = 1/3.0\n",
    "p_H2 = 1/2.0\n",
    "p_C1GivenH2 = (p_H2GivenC1 * p_C1) / p_H2\n",
    "p_C1GivenH2"
   ]
  },
  {
   "cell_type": "raw",
   "metadata": {},
   "source": [
    "p(C=3|H=2) = p(H=2|C=3)*p(C=3) / p(H=2)"
   ]
  },
  {
   "cell_type": "code",
   "execution_count": 11,
   "metadata": {
    "collapsed": false
   },
   "outputs": [
    {
     "data": {
      "text/plain": [
       "0.6666666666666666"
      ]
     },
     "execution_count": 11,
     "metadata": {},
     "output_type": "execute_result"
    }
   ],
   "source": [
    "p_H2GivenC3 = 1\n",
    "p_C3 = 1/3.0\n",
    "p_H2 = 1/2.0\n",
    "p_C1GivenH2 = (p_H2GivenC3 * p_C3) / p_H2\n",
    "p_C1GivenH2"
   ]
  },
  {
   "cell_type": "markdown",
   "metadata": {},
   "source": [
    "### Conclusion\n",
    "We should always switch.\n"
   ]
  }
 ],
 "metadata": {
  "anaconda-cloud": {},
  "kernelspec": {
   "display_name": "Python [default]",
   "language": "python",
   "name": "python2"
  },
  "language_info": {
   "codemirror_mode": {
    "name": "ipython",
    "version": 2
   },
   "file_extension": ".py",
   "mimetype": "text/x-python",
   "name": "python",
   "nbconvert_exporter": "python",
   "pygments_lexer": "ipython2",
   "version": "2.7.13"
  }
 },
 "nbformat": 4,
 "nbformat_minor": 1
}
