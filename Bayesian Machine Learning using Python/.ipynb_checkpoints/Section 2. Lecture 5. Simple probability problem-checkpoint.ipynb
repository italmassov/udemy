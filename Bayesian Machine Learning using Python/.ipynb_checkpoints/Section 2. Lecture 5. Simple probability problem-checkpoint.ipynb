{
 "cells": [
  {
   "cell_type": "markdown",
   "metadata": {},
   "source": [
    "# Section 2. Lecture 5"
   ]
  },
  {
   "cell_type": "markdown",
   "metadata": {},
   "source": [
    "### Sample probability problem"
   ]
  },
  {
   "cell_type": "markdown",
   "metadata": {},
   "source": [
    "* We have a fair coin: p(H) = p(T) = 0.5\n",
    "* We plan to toss the coin 200 times in total\n",
    "* After 200 tosses, we have 15H, 5T\n",
    "* What is the total # of heads we expect to get by the end of the experiment? (for N=200)"
   ]
  },
  {
   "cell_type": "markdown",
   "metadata": {},
   "source": [
    "My answer: 100"
   ]
  },
  {
   "cell_type": "markdown",
   "metadata": {},
   "source": [
    "Correct answer: 105"
   ]
  },
  {
   "cell_type": "markdown",
   "metadata": {},
   "source": [
    "15 in 20 is known. We only estimate number of heads in remaining 180 tosses. Since probability is 0.5. Expected number of heads is 90. Therefore total number of heads is 15 + 90 = 105."
   ]
  },
  {
   "cell_type": "markdown",
   "metadata": {},
   "source": [
    "### Gambler's fallacy\n",
    "Believing that things will \"even out\" in the end. Incorrect. \n",
    "\n",
    "**All games are independent.** Doesn't matter how many times you have lost already. Your chances of losing next are the same as they have always been."
   ]
  }
 ],
 "metadata": {
  "anaconda-cloud": {},
  "kernelspec": {
   "display_name": "Python [default]",
   "language": "python",
   "name": "python2"
  },
  "language_info": {
   "codemirror_mode": {
    "name": "ipython",
    "version": 2
   },
   "file_extension": ".py",
   "mimetype": "text/x-python",
   "name": "python",
   "nbconvert_exporter": "python",
   "pygments_lexer": "ipython2",
   "version": "2.7.13"
  }
 },
 "nbformat": 4,
 "nbformat_minor": 1
}
